{
 "cells": [
  {
   "cell_type": "code",
   "execution_count": 1,
   "id": "7b47644d-bbaa-4f57-89eb-5414fc4126a2",
   "metadata": {},
   "outputs": [],
   "source": [
    "# Import necessary libraries\n",
    "import pandas as pd\n",
    "import numpy as np\n",
    "import matplotlib.pyplot as plt\n",
    "import seaborn as sns\n",
    "import sklearn as sk\n"
   ]
  },
  {
   "cell_type": "markdown",
   "id": "faf13329-16b4-4c45-8237-28f816497f38",
   "metadata": {},
   "source": [
    "## Load the Dataset\n",
    "The dataset contains rental prices for houses in **Dhaka**.  Let's first load it and take a quick look."
   ]
  },
  {
   "cell_type": "code",
   "execution_count": 2,
   "id": "d40deaa3-ec69-4b5f-99a0-f715e2390af1",
   "metadata": {},
   "outputs": [
    {
     "data": {
      "text/html": [
       "<div>\n",
       "<style scoped>\n",
       "    .dataframe tbody tr th:only-of-type {\n",
       "        vertical-align: middle;\n",
       "    }\n",
       "\n",
       "    .dataframe tbody tr th {\n",
       "        vertical-align: top;\n",
       "    }\n",
       "\n",
       "    .dataframe thead th {\n",
       "        text-align: right;\n",
       "    }\n",
       "</style>\n",
       "<table border=\"1\" class=\"dataframe\">\n",
       "  <thead>\n",
       "    <tr style=\"text-align: right;\">\n",
       "      <th></th>\n",
       "      <th>Unnamed: 0</th>\n",
       "      <th>Location</th>\n",
       "      <th>Area</th>\n",
       "      <th>Bed</th>\n",
       "      <th>Bath</th>\n",
       "      <th>Price</th>\n",
       "    </tr>\n",
       "  </thead>\n",
       "  <tbody>\n",
       "    <tr>\n",
       "      <th>0</th>\n",
       "      <td>0</td>\n",
       "      <td>Block H, Bashundhara R-A, Dhaka</td>\n",
       "      <td>1,600 sqft</td>\n",
       "      <td>3</td>\n",
       "      <td>3</td>\n",
       "      <td>20 Thousand</td>\n",
       "    </tr>\n",
       "    <tr>\n",
       "      <th>1</th>\n",
       "      <td>1</td>\n",
       "      <td>Farmgate, Tejgaon, Dhaka</td>\n",
       "      <td>900 sqft</td>\n",
       "      <td>2</td>\n",
       "      <td>2</td>\n",
       "      <td>20 Thousand</td>\n",
       "    </tr>\n",
       "    <tr>\n",
       "      <th>2</th>\n",
       "      <td>2</td>\n",
       "      <td>Block B, Nobodoy Housing Society, Mohammadpur,...</td>\n",
       "      <td>1,250 sqft</td>\n",
       "      <td>3</td>\n",
       "      <td>3</td>\n",
       "      <td>18 Thousand</td>\n",
       "    </tr>\n",
       "    <tr>\n",
       "      <th>3</th>\n",
       "      <td>3</td>\n",
       "      <td>Gulshan 1, Gulshan, Dhaka</td>\n",
       "      <td>2,200 sqft</td>\n",
       "      <td>3</td>\n",
       "      <td>4</td>\n",
       "      <td>75 Thousand</td>\n",
       "    </tr>\n",
       "    <tr>\n",
       "      <th>4</th>\n",
       "      <td>4</td>\n",
       "      <td>Baridhara, Dhaka</td>\n",
       "      <td>2,200 sqft</td>\n",
       "      <td>3</td>\n",
       "      <td>3</td>\n",
       "      <td>75 Thousand</td>\n",
       "    </tr>\n",
       "  </tbody>\n",
       "</table>\n",
       "</div>"
      ],
      "text/plain": [
       "   Unnamed: 0                                           Location        Area  \\\n",
       "0           0                    Block H, Bashundhara R-A, Dhaka  1,600 sqft   \n",
       "1           1                           Farmgate, Tejgaon, Dhaka    900 sqft   \n",
       "2           2  Block B, Nobodoy Housing Society, Mohammadpur,...  1,250 sqft   \n",
       "3           3                          Gulshan 1, Gulshan, Dhaka  2,200 sqft   \n",
       "4           4                                   Baridhara, Dhaka  2,200 sqft   \n",
       "\n",
       "   Bed  Bath        Price  \n",
       "0    3     3  20 Thousand  \n",
       "1    2     2  20 Thousand  \n",
       "2    3     3  18 Thousand  \n",
       "3    3     4  75 Thousand  \n",
       "4    3     3  75 Thousand  "
      ]
     },
     "execution_count": 2,
     "metadata": {},
     "output_type": "execute_result"
    }
   ],
   "source": [
    "# Load dataset\n",
    "df = pd.read_csv(\"houserentdhaka.csv\")\n",
    "# Display the first few rows of the dataset\n",
    "df.head()"
   ]
  },
  {
   "cell_type": "markdown",
   "id": "fbd86ae2-6080-400a-b14b-f72dd681ef2e",
   "metadata": {},
   "source": [
    "## Understanding the Dataset Structure\n",
    "\n",
    "Before diving into analysis, let's explore the dataset to understand its structure, available features, and data types.\n"
   ]
  },
  {
   "cell_type": "code",
   "execution_count": 3,
   "id": "99555c58-deb2-4817-a898-e45082f5be1b",
   "metadata": {},
   "outputs": [
    {
     "data": {
      "text/plain": [
       "(28800, 6)"
      ]
     },
     "execution_count": 3,
     "metadata": {},
     "output_type": "execute_result"
    }
   ],
   "source": [
    "df.shape"
   ]
  },
  {
   "cell_type": "code",
   "execution_count": 4,
   "id": "3bba723a-5204-4d69-a8f3-0e4ef3880876",
   "metadata": {},
   "outputs": [
    {
     "name": "stdout",
     "output_type": "stream",
     "text": [
      "<class 'pandas.core.frame.DataFrame'>\n",
      "RangeIndex: 28800 entries, 0 to 28799\n",
      "Data columns (total 6 columns):\n",
      " #   Column      Non-Null Count  Dtype \n",
      "---  ------      --------------  ----- \n",
      " 0   Unnamed: 0  28800 non-null  int64 \n",
      " 1   Location    28800 non-null  object\n",
      " 2   Area        28800 non-null  object\n",
      " 3   Bed         28800 non-null  int64 \n",
      " 4   Bath        28800 non-null  int64 \n",
      " 5   Price       28800 non-null  object\n",
      "dtypes: int64(3), object(3)\n",
      "memory usage: 1.3+ MB\n"
     ]
    }
   ],
   "source": [
    "df.info()"
   ]
  },
  {
   "cell_type": "markdown",
   "id": "efb1b636-28a7-4f38-bd9b-3adf6110fe9a",
   "metadata": {},
   "source": [
    "# Data Preprocessing"
   ]
  },
  {
   "cell_type": "code",
   "execution_count": 5,
   "id": "c28193d7-8906-4838-8836-37e34385b3f0",
   "metadata": {},
   "outputs": [],
   "source": [
    "# # Rename the \"Price\" column to \"Rent\" for better clarity \n",
    "df.rename({\"Price\" : \"Rent\"}, axis = 1, inplace = True)"
   ]
  },
  {
   "cell_type": "code",
   "execution_count": 6,
   "id": "12638d3e-e647-48a2-924d-06fe0f9fdc36",
   "metadata": {},
   "outputs": [],
   "source": [
    "# Dropping unnecessary column\n",
    "df.drop(df.columns[0], axis = 1, inplace = True)"
   ]
  },
  {
   "cell_type": "code",
   "execution_count": 7,
   "id": "b5e15a6c-50b9-44fe-91be-4b7357b94648",
   "metadata": {},
   "outputs": [
    {
     "data": {
      "text/plain": [
       "Location    object\n",
       "Area        object\n",
       "Bed          int64\n",
       "Bath         int64\n",
       "Rent        object\n",
       "dtype: object"
      ]
     },
     "execution_count": 7,
     "metadata": {},
     "output_type": "execute_result"
    }
   ],
   "source": [
    "df.dtypes"
   ]
  },
  {
   "cell_type": "code",
   "execution_count": 8,
   "id": "7a3dba02-10c0-4d48-9bcf-a2638374dd2b",
   "metadata": {},
   "outputs": [
    {
     "data": {
      "text/html": [
       "<div>\n",
       "<style scoped>\n",
       "    .dataframe tbody tr th:only-of-type {\n",
       "        vertical-align: middle;\n",
       "    }\n",
       "\n",
       "    .dataframe tbody tr th {\n",
       "        vertical-align: top;\n",
       "    }\n",
       "\n",
       "    .dataframe thead th {\n",
       "        text-align: right;\n",
       "    }\n",
       "</style>\n",
       "<table border=\"1\" class=\"dataframe\">\n",
       "  <thead>\n",
       "    <tr style=\"text-align: right;\">\n",
       "      <th></th>\n",
       "      <th>Location</th>\n",
       "      <th>Area</th>\n",
       "      <th>Bed</th>\n",
       "      <th>Bath</th>\n",
       "      <th>Rent</th>\n",
       "    </tr>\n",
       "  </thead>\n",
       "  <tbody>\n",
       "    <tr>\n",
       "      <th>0</th>\n",
       "      <td>Block H, Bashundhara R-A, Dhaka</td>\n",
       "      <td>1,600 sqft</td>\n",
       "      <td>3</td>\n",
       "      <td>3</td>\n",
       "      <td>20 Thousand</td>\n",
       "    </tr>\n",
       "    <tr>\n",
       "      <th>1</th>\n",
       "      <td>Farmgate, Tejgaon, Dhaka</td>\n",
       "      <td>900 sqft</td>\n",
       "      <td>2</td>\n",
       "      <td>2</td>\n",
       "      <td>20 Thousand</td>\n",
       "    </tr>\n",
       "    <tr>\n",
       "      <th>2</th>\n",
       "      <td>Block B, Nobodoy Housing Society, Mohammadpur,...</td>\n",
       "      <td>1,250 sqft</td>\n",
       "      <td>3</td>\n",
       "      <td>3</td>\n",
       "      <td>18 Thousand</td>\n",
       "    </tr>\n",
       "  </tbody>\n",
       "</table>\n",
       "</div>"
      ],
      "text/plain": [
       "                                            Location        Area  Bed  Bath  \\\n",
       "0                    Block H, Bashundhara R-A, Dhaka  1,600 sqft    3     3   \n",
       "1                           Farmgate, Tejgaon, Dhaka    900 sqft    2     2   \n",
       "2  Block B, Nobodoy Housing Society, Mohammadpur,...  1,250 sqft    3     3   \n",
       "\n",
       "          Rent  \n",
       "0  20 Thousand  \n",
       "1  20 Thousand  \n",
       "2  18 Thousand  "
      ]
     },
     "execution_count": 8,
     "metadata": {},
     "output_type": "execute_result"
    }
   ],
   "source": [
    "df.head(3)"
   ]
  },
  {
   "cell_type": "code",
   "execution_count": 9,
   "id": "043dee49-8fc1-426a-a32f-effb07cb4f05",
   "metadata": {},
   "outputs": [],
   "source": [
    "# Keeping only the thana/PO/area name in the Location column\n",
    "df[\"Location\"] = df[\"Location\"].str.split(\",\").str[:-1].str[-1]\n",
    "df['Location'] = df['Location'].str.strip()"
   ]
  },
  {
   "cell_type": "code",
   "execution_count": 10,
   "id": "069a7e6b-cf7a-4315-8f69-a54c7a4ff1b1",
   "metadata": {},
   "outputs": [
    {
     "data": {
      "text/html": [
       "<div>\n",
       "<style scoped>\n",
       "    .dataframe tbody tr th:only-of-type {\n",
       "        vertical-align: middle;\n",
       "    }\n",
       "\n",
       "    .dataframe tbody tr th {\n",
       "        vertical-align: top;\n",
       "    }\n",
       "\n",
       "    .dataframe thead th {\n",
       "        text-align: right;\n",
       "    }\n",
       "</style>\n",
       "<table border=\"1\" class=\"dataframe\">\n",
       "  <thead>\n",
       "    <tr style=\"text-align: right;\">\n",
       "      <th></th>\n",
       "      <th>Location</th>\n",
       "      <th>Area</th>\n",
       "      <th>Bed</th>\n",
       "      <th>Bath</th>\n",
       "      <th>Rent</th>\n",
       "    </tr>\n",
       "  </thead>\n",
       "  <tbody>\n",
       "    <tr>\n",
       "      <th>0</th>\n",
       "      <td>Bashundhara R-A</td>\n",
       "      <td>1,600 sqft</td>\n",
       "      <td>3</td>\n",
       "      <td>3</td>\n",
       "      <td>20 Thousand</td>\n",
       "    </tr>\n",
       "    <tr>\n",
       "      <th>1</th>\n",
       "      <td>Tejgaon</td>\n",
       "      <td>900 sqft</td>\n",
       "      <td>2</td>\n",
       "      <td>2</td>\n",
       "      <td>20 Thousand</td>\n",
       "    </tr>\n",
       "    <tr>\n",
       "      <th>2</th>\n",
       "      <td>Mohammadpur</td>\n",
       "      <td>1,250 sqft</td>\n",
       "      <td>3</td>\n",
       "      <td>3</td>\n",
       "      <td>18 Thousand</td>\n",
       "    </tr>\n",
       "    <tr>\n",
       "      <th>3</th>\n",
       "      <td>Gulshan</td>\n",
       "      <td>2,200 sqft</td>\n",
       "      <td>3</td>\n",
       "      <td>4</td>\n",
       "      <td>75 Thousand</td>\n",
       "    </tr>\n",
       "    <tr>\n",
       "      <th>4</th>\n",
       "      <td>Baridhara</td>\n",
       "      <td>2,200 sqft</td>\n",
       "      <td>3</td>\n",
       "      <td>3</td>\n",
       "      <td>75 Thousand</td>\n",
       "    </tr>\n",
       "  </tbody>\n",
       "</table>\n",
       "</div>"
      ],
      "text/plain": [
       "          Location        Area  Bed  Bath         Rent\n",
       "0  Bashundhara R-A  1,600 sqft    3     3  20 Thousand\n",
       "1          Tejgaon    900 sqft    2     2  20 Thousand\n",
       "2      Mohammadpur  1,250 sqft    3     3  18 Thousand\n",
       "3          Gulshan  2,200 sqft    3     4  75 Thousand\n",
       "4        Baridhara  2,200 sqft    3     3  75 Thousand"
      ]
     },
     "execution_count": 10,
     "metadata": {},
     "output_type": "execute_result"
    }
   ],
   "source": [
    "# Display the first few rows of the dataset\n",
    "df.head()"
   ]
  },
  {
   "cell_type": "markdown",
   "id": "08325275-f464-4aa2-b4ae-9cc477a34df9",
   "metadata": {},
   "source": [
    "#### Cleaning & Converting Area Data\n",
    "\n",
    "The `\"Area\"` column in our dataset contains values in a **text format**, often including unit labels like `\"sqft\"` or commas for readability (e.g., `\"1,200 sqft\"`).  \n",
    "Since we need **numeric values** for analysis, we will process the column as follows:"
   ]
  },
  {
   "cell_type": "code",
   "execution_count": 11,
   "id": "a3562af4-5b94-45b3-9e28-da278cc12334",
   "metadata": {},
   "outputs": [],
   "source": [
    "df[\"Area\"] = df[\"Area\"].str.split(\" \").str[:-1]"
   ]
  },
  {
   "cell_type": "code",
   "execution_count": 12,
   "id": "a15119fc-d2e4-439a-b614-d83fbe99efbd",
   "metadata": {},
   "outputs": [],
   "source": [
    "df[\"Area\"] = df['Area'].apply(lambda x: ''.join(map(str, x)))"
   ]
  },
  {
   "cell_type": "code",
   "execution_count": 13,
   "id": "b519cbd0-4315-4c34-a0cd-486234365481",
   "metadata": {},
   "outputs": [],
   "source": [
    "df['Area']=df['Area'].str.replace(',', '')\n",
    "df['Area'] = df['Area'].astype(int)"
   ]
  },
  {
   "cell_type": "code",
   "execution_count": 14,
   "id": "613b46c7-b91e-4d19-886e-2ab0af3fcf6a",
   "metadata": {},
   "outputs": [
    {
     "data": {
      "text/plain": [
       "dtype('int64')"
      ]
     },
     "execution_count": 14,
     "metadata": {},
     "output_type": "execute_result"
    }
   ],
   "source": [
    "df[\"Area\"].dtypes"
   ]
  },
  {
   "cell_type": "markdown",
   "id": "f8dfebb6-379d-47af-b404-c3d9387d90b1",
   "metadata": {},
   "source": [
    "#### Converting Rent Values to Numeric Format\n",
    "\n",
    "In our dataset, the `\"Rent\"` column contains values in a **mixed format**. Some rents are written with text labels like **\"Thousand\"** or **\"Lakh\"**, which need to be converted into numerical values for accurate calculations.\n"
   ]
  },
  {
   "cell_type": "code",
   "execution_count": 15,
   "id": "c9404170-01d1-4fa9-b750-2b75f163d42a",
   "metadata": {},
   "outputs": [],
   "source": [
    "# Convert rent values from text-based to numeric format\n",
    "df[\"Rent\"] = df[\"Rent\"].replace({\"Thousand\":\"*1e3\", \"Lakh\":\"*1e5\"}, regex=True).map(pd.eval).astype(int)"
   ]
  },
  {
   "cell_type": "markdown",
   "id": "290c4089-6568-437c-a69a-0bfcd2a12b97",
   "metadata": {},
   "source": [
    "#### Handling Missing Values\n",
    "\n",
    "Real-world datasets often contain **missing values**, which can impact the performance of machine learning models.  \n",
    "To ensure data integrity, we will first **check for missing values** and then decide how to handle them."
   ]
  },
  {
   "cell_type": "code",
   "execution_count": 16,
   "id": "24e0ac1f-c46e-4940-ba34-ba2fab827de4",
   "metadata": {},
   "outputs": [
    {
     "data": {
      "text/plain": [
       "Location    13\n",
       "Area         0\n",
       "Bed          0\n",
       "Bath         0\n",
       "Rent         0\n",
       "dtype: int64"
      ]
     },
     "execution_count": 16,
     "metadata": {},
     "output_type": "execute_result"
    }
   ],
   "source": [
    "df.isna().sum()"
   ]
  },
  {
   "cell_type": "code",
   "execution_count": 17,
   "id": "82eb50bb-8df7-4c00-8e7b-207d2c5f6177",
   "metadata": {},
   "outputs": [],
   "source": [
    "df.dropna(inplace= True)"
   ]
  },
  {
   "cell_type": "markdown",
   "id": "b33c890b-a011-4976-86df-884f7cf6f463",
   "metadata": {},
   "source": [
    "#### Calculating Price Per Square Foot\n",
    "\n",
    "To better understand the cost dynamics of rental properties, we compute the **price per square foot** (`price_per_sqft`).  \n",
    "This helps in comparing rental values across different property sizes."
   ]
  },
  {
   "cell_type": "code",
   "execution_count": 18,
   "id": "015f6dd5-78bf-4709-8a9f-6068cba759b3",
   "metadata": {},
   "outputs": [
    {
     "data": {
      "text/html": [
       "<div>\n",
       "<style scoped>\n",
       "    .dataframe tbody tr th:only-of-type {\n",
       "        vertical-align: middle;\n",
       "    }\n",
       "\n",
       "    .dataframe tbody tr th {\n",
       "        vertical-align: top;\n",
       "    }\n",
       "\n",
       "    .dataframe thead th {\n",
       "        text-align: right;\n",
       "    }\n",
       "</style>\n",
       "<table border=\"1\" class=\"dataframe\">\n",
       "  <thead>\n",
       "    <tr style=\"text-align: right;\">\n",
       "      <th></th>\n",
       "      <th>Location</th>\n",
       "      <th>Area</th>\n",
       "      <th>Bed</th>\n",
       "      <th>Bath</th>\n",
       "      <th>Rent</th>\n",
       "      <th>price_per_sqft</th>\n",
       "    </tr>\n",
       "  </thead>\n",
       "  <tbody>\n",
       "    <tr>\n",
       "      <th>0</th>\n",
       "      <td>Bashundhara R-A</td>\n",
       "      <td>1600</td>\n",
       "      <td>3</td>\n",
       "      <td>3</td>\n",
       "      <td>20000</td>\n",
       "      <td>12.50</td>\n",
       "    </tr>\n",
       "    <tr>\n",
       "      <th>1</th>\n",
       "      <td>Tejgaon</td>\n",
       "      <td>900</td>\n",
       "      <td>2</td>\n",
       "      <td>2</td>\n",
       "      <td>20000</td>\n",
       "      <td>22.22</td>\n",
       "    </tr>\n",
       "    <tr>\n",
       "      <th>2</th>\n",
       "      <td>Mohammadpur</td>\n",
       "      <td>1250</td>\n",
       "      <td>3</td>\n",
       "      <td>3</td>\n",
       "      <td>18000</td>\n",
       "      <td>14.40</td>\n",
       "    </tr>\n",
       "    <tr>\n",
       "      <th>3</th>\n",
       "      <td>Gulshan</td>\n",
       "      <td>2200</td>\n",
       "      <td>3</td>\n",
       "      <td>4</td>\n",
       "      <td>75000</td>\n",
       "      <td>34.09</td>\n",
       "    </tr>\n",
       "    <tr>\n",
       "      <th>4</th>\n",
       "      <td>Baridhara</td>\n",
       "      <td>2200</td>\n",
       "      <td>3</td>\n",
       "      <td>3</td>\n",
       "      <td>75000</td>\n",
       "      <td>34.09</td>\n",
       "    </tr>\n",
       "  </tbody>\n",
       "</table>\n",
       "</div>"
      ],
      "text/plain": [
       "          Location  Area  Bed  Bath   Rent  price_per_sqft\n",
       "0  Bashundhara R-A  1600    3     3  20000           12.50\n",
       "1          Tejgaon   900    2     2  20000           22.22\n",
       "2      Mohammadpur  1250    3     3  18000           14.40\n",
       "3          Gulshan  2200    3     4  75000           34.09\n",
       "4        Baridhara  2200    3     3  75000           34.09"
      ]
     },
     "execution_count": 18,
     "metadata": {},
     "output_type": "execute_result"
    }
   ],
   "source": [
    "df['price_per_sqft'] = (df['Rent']/df['Area']).round(2)\n",
    "df.head()"
   ]
  },
  {
   "cell_type": "markdown",
   "id": "78da6621-2f15-4cb8-acb5-0dd49c5507d0",
   "metadata": {},
   "source": [
    "# Outlier Removal Using Standard Deviation and Mean"
   ]
  },
  {
   "cell_type": "code",
   "execution_count": 19,
   "id": "81a0d1e7-7316-4a40-89d6-b985cf01db15",
   "metadata": {},
   "outputs": [
    {
     "data": {
      "text/plain": [
       "count    28787.000000\n",
       "mean        19.015038\n",
       "std          6.553137\n",
       "min          6.500000\n",
       "25%         15.380000\n",
       "50%         18.060000\n",
       "75%         21.050000\n",
       "max        228.570000\n",
       "Name: price_per_sqft, dtype: float64"
      ]
     },
     "execution_count": 19,
     "metadata": {},
     "output_type": "execute_result"
    }
   ],
   "source": [
    "df.price_per_sqft.describe()"
   ]
  },
  {
   "cell_type": "markdown",
   "id": "ccafbb96-ab27-4939-b389-47ff2564661e",
   "metadata": {},
   "source": [
    "\n",
    "Here we find that min price per sqft is near about 19 tk /sqft whereas max is almost 229, this shows a wide variation in property prices. We should remove outliers per location using mean and one standard deviation\n"
   ]
  },
  {
   "cell_type": "markdown",
   "id": "802af7d6-5476-4edc-8a22-ef7213465cf6",
   "metadata": {},
   "source": [
    "#### Removing Outliers Based on Price Per Square Foot\n",
    "\n",
    "Property rent prices can vary significantly across different locations. To ensure a **clean dataset**, we detect and remove **outliers** using the **mean and standard deviation** of `price_per_sqft` for each location."
   ]
  },
  {
   "cell_type": "code",
   "execution_count": 20,
   "id": "18b662e0-bf6e-4e4c-b62b-eecaf6b1619d",
   "metadata": {},
   "outputs": [],
   "source": [
    "## Calculate mean & standard deviation of price_per_sqft per location\n",
    "location_stats = df.groupby('Location')['price_per_sqft'].agg(['mean', 'std'])\n",
    "\n",
    "# Merging the stats back with the original DataFrame to get the mean and std per location\n",
    "df = df.merge(location_stats, on='Location', how='left')\n",
    "\n",
    "# Calculating lower and upper bounds for outlier detection\n",
    "df['lower_bound'] = df['mean'] - df['std']\n",
    "df['upper_bound'] = df['mean'] + df['std']\n",
    "\n",
    "# Filtering the data to remove outliers based on price_per_sqft within the bounds\n",
    "df_filtered = df[(df['price_per_sqft'] >= df['lower_bound']) & (df['price_per_sqft'] <= df['upper_bound'])]\n",
    "\n",
    "# Droping the auxiliary columns\n",
    "df_filtered = df_filtered.drop(columns=['mean', 'std', 'lower_bound', 'upper_bound'])\n"
   ]
  },
  {
   "cell_type": "code",
   "execution_count": 21,
   "id": "c728594c-d91d-49f2-a393-5a9b7d002937",
   "metadata": {},
   "outputs": [],
   "source": [
    "## Drop auxiliary columns used for outlier detection\n",
    "df_filtered = df_filtered.drop(columns=['price_per_sqft'])"
   ]
  },
  {
   "cell_type": "code",
   "execution_count": 22,
   "id": "ab146637-b93d-4b72-aaf4-aeead82e8cef",
   "metadata": {},
   "outputs": [
    {
     "data": {
      "text/plain": [
       "Text(0, 0.5, 'Count')"
      ]
     },
     "execution_count": 22,
     "metadata": {},
     "output_type": "execute_result"
    },
    {
     "data": {
      "image/png": "[encoded data removed]",
      "text/plain": [
       "<Figure size 640x480 with 1 Axes>"
      ]
     },
     "metadata": {},
     "output_type": "display_data"
    }
   ],
   "source": [
    "# Visualization improvement: Add labels & title\n",
    "plt.hist(df_filtered.Bath,rwidth=0.8)\n",
    "# Visualization improvement: Add labels & title\n",
    "plt.xlabel(\"Number of bathrooms\")\n",
    "# Visualization improvement: Add labels & title\n",
    "plt.ylabel(\"Count\")"
   ]
  },
  {
   "cell_type": "markdown",
   "id": "bf06c53a-bd56-4fac-b4bc-6ab0f51139af",
   "metadata": {},
   "source": [
    "# Exploratory Data Analysis (EDA)"
   ]
  },
  {
   "cell_type": "code",
   "execution_count": 23,
   "id": "a0a5dd33-274d-4ac4-ac21-9dedf570c248",
   "metadata": {},
   "outputs": [
    {
     "data": {
      "text/html": [
       "<div>\n",
       "<style scoped>\n",
       "    .dataframe tbody tr th:only-of-type {\n",
       "        vertical-align: middle;\n",
       "    }\n",
       "\n",
       "    .dataframe tbody tr th {\n",
       "        vertical-align: top;\n",
       "    }\n",
       "\n",
       "    .dataframe thead th {\n",
       "        text-align: right;\n",
       "    }\n",
       "</style>\n",
       "<table border=\"1\" class=\"dataframe\">\n",
       "  <thead>\n",
       "    <tr style=\"text-align: right;\">\n",
       "      <th></th>\n",
       "      <th>Area</th>\n",
       "      <th>Bed</th>\n",
       "      <th>Bath</th>\n",
       "      <th>Rent</th>\n",
       "    </tr>\n",
       "  </thead>\n",
       "  <tbody>\n",
       "    <tr>\n",
       "      <th>count</th>\n",
       "      <td>21118.000000</td>\n",
       "      <td>21118.000000</td>\n",
       "      <td>21118.000000</td>\n",
       "      <td>21118.000000</td>\n",
       "    </tr>\n",
       "    <tr>\n",
       "      <th>mean</th>\n",
       "      <td>1036.572450</td>\n",
       "      <td>2.479591</td>\n",
       "      <td>2.345866</td>\n",
       "      <td>20376.671939</td>\n",
       "    </tr>\n",
       "    <tr>\n",
       "      <th>std</th>\n",
       "      <td>466.278478</td>\n",
       "      <td>0.591758</td>\n",
       "      <td>0.740388</td>\n",
       "      <td>17405.918894</td>\n",
       "    </tr>\n",
       "    <tr>\n",
       "      <th>min</th>\n",
       "      <td>300.000000</td>\n",
       "      <td>1.000000</td>\n",
       "      <td>1.000000</td>\n",
       "      <td>5500.000000</td>\n",
       "    </tr>\n",
       "    <tr>\n",
       "      <th>25%</th>\n",
       "      <td>700.000000</td>\n",
       "      <td>2.000000</td>\n",
       "      <td>2.000000</td>\n",
       "      <td>13000.000000</td>\n",
       "    </tr>\n",
       "    <tr>\n",
       "      <th>50%</th>\n",
       "      <td>860.000000</td>\n",
       "      <td>2.000000</td>\n",
       "      <td>2.000000</td>\n",
       "      <td>16000.000000</td>\n",
       "    </tr>\n",
       "    <tr>\n",
       "      <th>75%</th>\n",
       "      <td>1200.000000</td>\n",
       "      <td>3.000000</td>\n",
       "      <td>3.000000</td>\n",
       "      <td>22000.000000</td>\n",
       "    </tr>\n",
       "    <tr>\n",
       "      <th>max</th>\n",
       "      <td>6300.000000</td>\n",
       "      <td>6.000000</td>\n",
       "      <td>6.000000</td>\n",
       "      <td>400000.000000</td>\n",
       "    </tr>\n",
       "  </tbody>\n",
       "</table>\n",
       "</div>"
      ],
      "text/plain": [
       "               Area           Bed          Bath           Rent\n",
       "count  21118.000000  21118.000000  21118.000000   21118.000000\n",
       "mean    1036.572450      2.479591      2.345866   20376.671939\n",
       "std      466.278478      0.591758      0.740388   17405.918894\n",
       "min      300.000000      1.000000      1.000000    5500.000000\n",
       "25%      700.000000      2.000000      2.000000   13000.000000\n",
       "50%      860.000000      2.000000      2.000000   16000.000000\n",
       "75%     1200.000000      3.000000      3.000000   22000.000000\n",
       "max     6300.000000      6.000000      6.000000  400000.000000"
      ]
     },
     "execution_count": 23,
     "metadata": {},
     "output_type": "execute_result"
    }
   ],
   "source": [
    "df_filtered.describe()"
   ]
  },
  {
   "cell_type": "code",
   "execution_count": 24,
   "id": "27580d29-590a-4287-9183-874ba02b460f",
   "metadata": {},
   "outputs": [
    {
     "data": {
      "image/png": "[encoded data removed]",
      "text/plain": [
       "<Figure size 640x480 with 1 Axes>"
      ]
     },
     "metadata": {},
     "output_type": "display_data"
    }
   ],
   "source": [
    "# Visualization improvement: Add labels & title\n",
    "plt.boxplot(df_filtered[\"Area\"], vert=False, widths = 0.6)\n",
    "# Visualization improvement: Add labels & title\n",
    "plt.show()"
   ]
  },
  {
   "cell_type": "code",
   "execution_count": 25,
   "id": "3184c938-f985-4d46-999e-0d64e2de0ab8",
   "metadata": {},
   "outputs": [
    {
     "data": {
      "image/png": "[encoded data removed]",
      "text/plain": [
       "<Figure size 640x480 with 1 Axes>"
      ]
     },
     "metadata": {},
     "output_type": "display_data"
    }
   ],
   "source": [
    "# Visualization improvement: Add labels & title\n",
    "plt.boxplot(df_filtered[\"Bed\"], vert=False, widths = 0.6)\n",
    "# Visualization improvement: Add labels & title\n",
    "plt.show()\n"
   ]
  },
  {
   "cell_type": "code",
   "execution_count": 26,
   "id": "119f89a1-1f63-4124-94f3-caa349ec5a70",
   "metadata": {},
   "outputs": [
    {
     "data": {
      "image/png": "[encoded data removed]",
      "text/plain": [
       "<Figure size 640x480 with 1 Axes>"
      ]
     },
     "metadata": {},
     "output_type": "display_data"
    }
   ],
   "source": [
    "# Visualization improvement: Add labels & title\n",
    "plt.boxplot(df_filtered[\"Bath\"], vert=False, widths = 0.6)\n",
    "# Visualization improvement: Add labels & title\n",
    "plt.show()"
   ]
  },
  {
   "cell_type": "code",
   "execution_count": 27,
   "id": "72315313-a62d-432c-8a50-396cdd1660ad",
   "metadata": {},
   "outputs": [
    {
     "data": {
      "image/png": "[encoded data removed]",
      "text/plain": [
       "<Figure size 640x480 with 1 Axes>"
      ]
     },
     "metadata": {},
     "output_type": "display_data"
    }
   ],
   "source": [
    "# Visualization improvement: Add labels & title\n",
    "plt.boxplot(df_filtered[\"Rent\"], vert=False, widths = 0.6)\n",
    "# Visualization improvement: Add labels & title\n",
    "plt.show()"
   ]
  },
  {
   "cell_type": "code",
   "execution_count": 28,
   "id": "2b0b09ec-51df-4697-a925-20b937b3f67e",
   "metadata": {},
   "outputs": [
    {
     "data": {
      "text/plain": [
       "Location\n",
       "Mirpur             6293\n",
       "Mohammadpur        2430\n",
       "Uttara             1577\n",
       "Badda              1322\n",
       "Bashundhara R-A    1228\n",
       "                   ... \n",
       "Shahbagh              5\n",
       "Demra                 4\n",
       "Sadarghat             2\n",
       "Banglamotors          2\n",
       "Keraniganj            2\n",
       "Name: count, Length: 68, dtype: int64"
      ]
     },
     "execution_count": 28,
     "metadata": {},
     "output_type": "execute_result"
    }
   ],
   "source": [
    "df_filtered[\"Location\"].value_counts()"
   ]
  },
  {
   "cell_type": "code",
   "execution_count": 29,
   "id": "84401f9b-46ea-4db1-b94c-11459fcda924",
   "metadata": {},
   "outputs": [
    {
     "data": {
      "text/plain": [
       "Bed\n",
       "2    11250\n",
       "3     8843\n",
       "4      747\n",
       "1      261\n",
       "5       16\n",
       "6        1\n",
       "Name: count, dtype: int64"
      ]
     },
     "execution_count": 29,
     "metadata": {},
     "output_type": "execute_result"
    }
   ],
   "source": [
    "df_filtered[\"Bed\"].value_counts()"
   ]
  },
  {
   "cell_type": "code",
   "execution_count": 30,
   "id": "dd7bb1ef-f08e-4ab5-8e42-60192f3cace0",
   "metadata": {},
   "outputs": [
    {
     "data": {
      "text/plain": [
       "Bath\n",
       "2    12101\n",
       "3     5838\n",
       "1     1667\n",
       "4     1405\n",
       "5      105\n",
       "6        2\n",
       "Name: count, dtype: int64"
      ]
     },
     "execution_count": 30,
     "metadata": {},
     "output_type": "execute_result"
    }
   ],
   "source": [
    "df_filtered[\"Bath\"].value_counts()"
   ]
  },
  {
   "cell_type": "code",
   "execution_count": 31,
   "id": "ae94cb72-7b39-4d3b-b3ce-ecf069a36c8d",
   "metadata": {},
   "outputs": [
    {
     "data": {
      "image/png": "[encoded data removed]",
      "text/plain": [
       "<Figure size 640x480 with 1 Axes>"
      ]
     },
     "metadata": {},
     "output_type": "display_data"
    }
   ],
   "source": [
    "# Visualization improvement: Add labels & title\n",
    "plt.scatter(df_filtered[\"Area\"], df_filtered[\"Rent\"], alpha=0.5, color='blue')\n",
    "# Visualization improvement: Add labels & title\n",
    "plt.xlabel(\"Area\")\n",
    "# Visualization improvement: Add labels & title\n",
    "plt.ylabel(\"Rent\")\n",
    "# Visualization improvement: Add labels & title\n",
    "plt.title(\"Scatter Plot of Rent vs. Area\")\n",
    "# Visualization improvement: Add labels & title\n",
    "plt.show()"
   ]
  },
  {
   "cell_type": "code",
   "execution_count": 32,
   "id": "9c99a18c-0bdb-4b8f-9779-9a870991fbbf",
   "metadata": {},
   "outputs": [
    {
     "data": {
      "image/png": "[encoded data removed]",
      "text/plain": [
       "<Figure size 640x480 with 1 Axes>"
      ]
     },
     "metadata": {},
     "output_type": "display_data"
    }
   ],
   "source": [
    "# Visualization improvement: Add labels & title\n",
    "plt.scatter(df_filtered[\"Bed\"], df_filtered[\"Rent\"], alpha=0.5, color='blue')\n",
    "# Visualization improvement: Add labels & title\n",
    "plt.xlabel(\"Bed\")\n",
    "# Visualization improvement: Add labels & title\n",
    "plt.ylabel(\"Rent\")\n",
    "# Visualization improvement: Add labels & title\n",
    "plt.title(\"Scatter Plot of Bed vs. Area\")\n",
    "# Visualization improvement: Add labels & title\n",
    "plt.show()"
   ]
  },
  {
   "cell_type": "code",
   "execution_count": 33,
   "id": "5be7a86d-e5fe-42b8-aa1e-5115db0a686a",
   "metadata": {},
   "outputs": [
    {
     "data": {
      "image/png": "[encoded data removed]",
      "text/plain": [
       "<Figure size 640x480 with 1 Axes>"
      ]
     },
     "metadata": {},
     "output_type": "display_data"
    }
   ],
   "source": [
    "# Visualization improvement: Add labels & title\n",
    "plt.scatter(df_filtered[\"Bath\"], df_filtered[\"Rent\"], alpha=0.5, color='blue')\n",
    "# Visualization improvement: Add labels & title\n",
    "plt.xlabel(\"Bath\")\n",
    "# Visualization improvement: Add labels & title\n",
    "plt.ylabel(\"Rent\")\n",
    "# Visualization improvement: Add labels & title\n",
    "plt.title(\"Scatter Plot of Bath vs. Area\")\n",
    "# Visualization improvement: Add labels & title\n",
    "plt.show()"
   ]
  },
  {
   "cell_type": "code",
   "execution_count": 34,
   "id": "4e75c26c-4fed-4aa3-9a37-bbfefaa7f36f",
   "metadata": {},
   "outputs": [
    {
     "data": {
      "text/html": [
       "<div>\n",
       "<style scoped>\n",
       "    .dataframe tbody tr th:only-of-type {\n",
       "        vertical-align: middle;\n",
       "    }\n",
       "\n",
       "    .dataframe tbody tr th {\n",
       "        vertical-align: top;\n",
       "    }\n",
       "\n",
       "    .dataframe thead th {\n",
       "        text-align: right;\n",
       "    }\n",
       "</style>\n",
       "<table border=\"1\" class=\"dataframe\">\n",
       "  <thead>\n",
       "    <tr style=\"text-align: right;\">\n",
       "      <th></th>\n",
       "      <th>Area</th>\n",
       "      <th>Bed</th>\n",
       "      <th>Bath</th>\n",
       "      <th>Rent</th>\n",
       "    </tr>\n",
       "  </thead>\n",
       "  <tbody>\n",
       "    <tr>\n",
       "      <th>Area</th>\n",
       "      <td>1.000000</td>\n",
       "      <td>0.785905</td>\n",
       "      <td>0.813116</td>\n",
       "      <td>0.818738</td>\n",
       "    </tr>\n",
       "    <tr>\n",
       "      <th>Bed</th>\n",
       "      <td>0.785905</td>\n",
       "      <td>1.000000</td>\n",
       "      <td>0.763950</td>\n",
       "      <td>0.513299</td>\n",
       "    </tr>\n",
       "    <tr>\n",
       "      <th>Bath</th>\n",
       "      <td>0.813116</td>\n",
       "      <td>0.763950</td>\n",
       "      <td>1.000000</td>\n",
       "      <td>0.559004</td>\n",
       "    </tr>\n",
       "    <tr>\n",
       "      <th>Rent</th>\n",
       "      <td>0.818738</td>\n",
       "      <td>0.513299</td>\n",
       "      <td>0.559004</td>\n",
       "      <td>1.000000</td>\n",
       "    </tr>\n",
       "  </tbody>\n",
       "</table>\n",
       "</div>"
      ],
      "text/plain": [
       "          Area       Bed      Bath      Rent\n",
       "Area  1.000000  0.785905  0.813116  0.818738\n",
       "Bed   0.785905  1.000000  0.763950  0.513299\n",
       "Bath  0.813116  0.763950  1.000000  0.559004\n",
       "Rent  0.818738  0.513299  0.559004  1.000000"
      ]
     },
     "execution_count": 34,
     "metadata": {},
     "output_type": "execute_result"
    }
   ],
   "source": [
    "df_numerical = df_filtered.drop(columns=[df.columns[0]]) \n",
    "df_numerical.corr(method ='pearson')"
   ]
  },
  {
   "cell_type": "code",
   "execution_count": 35,
   "id": "84758578-d612-413a-b013-293a2057eaf6",
   "metadata": {},
   "outputs": [
    {
     "data": {
      "text/plain": [
       "Text(0.5, 1.0, 'Pearson Correlation')"
      ]
     },
     "execution_count": 35,
     "metadata": {},
     "output_type": "execute_result"
    },
    {
     "data": {
      "image/png": "[encoded data removed]",
      "text/plain": [
       "<Figure size 1000x600 with 2 Axes>"
      ]
     },
     "metadata": {},
     "output_type": "display_data"
    }
   ],
   "source": [
    "# Create heatmap\n",
    "# Visualization improvement: Add labels & title\n",
    "plt.figure(figsize=(10,6))\n",
    "# Visualization improvement: Add labels & title\n",
    "heatmap = sns.heatmap(df_numerical.corr(method ='pearson'), vmin=0,vmax=1, annot=True, cmap = \"coolwarm\")\n",
    "# Visualization improvement: Add labels & title\n",
    "plt.xticks(rotation=0, fontsize=12)  \n",
    "# Visualization improvement: Add labels & title\n",
    "plt.yticks(rotation=0, fontsize=12)\n",
    "# Visualization improvement: Add labels & title\n",
    "plt.title(\"Pearson Correlation\")"
   ]
  },
  {
   "cell_type": "markdown",
   "id": "e0ee438b-124d-434b-a3c6-ad0c9953d995",
   "metadata": {},
   "source": [
    "### As it is observed, Area has the highest impact on Rent 0.82"
   ]
  },
  {
   "cell_type": "markdown",
   "id": "eb8daea9-699e-428c-896f-ff67d31a2745",
   "metadata": {},
   "source": [
    "# One Hot Encoding For Location"
   ]
  },
  {
   "cell_type": "code",
   "execution_count": 36,
   "id": "98e78d01-d3db-4fb2-bc94-fc9ec0c4c16b",
   "metadata": {},
   "outputs": [
    {
     "data": {
      "text/html": [
       "<div>\n",
       "<style scoped>\n",
       "    .dataframe tbody tr th:only-of-type {\n",
       "        vertical-align: middle;\n",
       "    }\n",
       "\n",
       "    .dataframe tbody tr th {\n",
       "        vertical-align: top;\n",
       "    }\n",
       "\n",
       "    .dataframe thead th {\n",
       "        text-align: right;\n",
       "    }\n",
       "</style>\n",
       "<table border=\"1\" class=\"dataframe\">\n",
       "  <thead>\n",
       "    <tr style=\"text-align: right;\">\n",
       "      <th></th>\n",
       "      <th>Adabor</th>\n",
       "      <th>Aftab Nagar</th>\n",
       "      <th>Agargaon</th>\n",
       "      <th>Badda</th>\n",
       "      <th>Banani</th>\n",
       "      <th>Banani DOHS</th>\n",
       "      <th>Banasree</th>\n",
       "      <th>Banglamotors</th>\n",
       "      <th>Bangshal</th>\n",
       "      <th>Baridhara</th>\n",
       "      <th>...</th>\n",
       "      <th>Shiddheswari</th>\n",
       "      <th>Shyamoli</th>\n",
       "      <th>Shyampur</th>\n",
       "      <th>Sutrapur</th>\n",
       "      <th>Taltola</th>\n",
       "      <th>Tejgaon</th>\n",
       "      <th>Turag</th>\n",
       "      <th>Uttar Khan</th>\n",
       "      <th>Uttara</th>\n",
       "      <th>Zafrabad</th>\n",
       "    </tr>\n",
       "  </thead>\n",
       "  <tbody>\n",
       "    <tr>\n",
       "      <th>1</th>\n",
       "      <td>0</td>\n",
       "      <td>0</td>\n",
       "      <td>0</td>\n",
       "      <td>0</td>\n",
       "      <td>0</td>\n",
       "      <td>0</td>\n",
       "      <td>0</td>\n",
       "      <td>0</td>\n",
       "      <td>0</td>\n",
       "      <td>0</td>\n",
       "      <td>...</td>\n",
       "      <td>0</td>\n",
       "      <td>0</td>\n",
       "      <td>0</td>\n",
       "      <td>0</td>\n",
       "      <td>0</td>\n",
       "      <td>1</td>\n",
       "      <td>0</td>\n",
       "      <td>0</td>\n",
       "      <td>0</td>\n",
       "      <td>0</td>\n",
       "    </tr>\n",
       "    <tr>\n",
       "      <th>2</th>\n",
       "      <td>0</td>\n",
       "      <td>0</td>\n",
       "      <td>0</td>\n",
       "      <td>0</td>\n",
       "      <td>0</td>\n",
       "      <td>0</td>\n",
       "      <td>0</td>\n",
       "      <td>0</td>\n",
       "      <td>0</td>\n",
       "      <td>0</td>\n",
       "      <td>...</td>\n",
       "      <td>0</td>\n",
       "      <td>0</td>\n",
       "      <td>0</td>\n",
       "      <td>0</td>\n",
       "      <td>0</td>\n",
       "      <td>0</td>\n",
       "      <td>0</td>\n",
       "      <td>0</td>\n",
       "      <td>0</td>\n",
       "      <td>0</td>\n",
       "    </tr>\n",
       "    <tr>\n",
       "      <th>3</th>\n",
       "      <td>0</td>\n",
       "      <td>0</td>\n",
       "      <td>0</td>\n",
       "      <td>0</td>\n",
       "      <td>0</td>\n",
       "      <td>0</td>\n",
       "      <td>0</td>\n",
       "      <td>0</td>\n",
       "      <td>0</td>\n",
       "      <td>0</td>\n",
       "      <td>...</td>\n",
       "      <td>0</td>\n",
       "      <td>0</td>\n",
       "      <td>0</td>\n",
       "      <td>0</td>\n",
       "      <td>0</td>\n",
       "      <td>0</td>\n",
       "      <td>0</td>\n",
       "      <td>0</td>\n",
       "      <td>0</td>\n",
       "      <td>0</td>\n",
       "    </tr>\n",
       "  </tbody>\n",
       "</table>\n",
       "<p>3 rows × 68 columns</p>\n",
       "</div>"
      ],
      "text/plain": [
       "   Adabor  Aftab Nagar  Agargaon  Badda  Banani  Banani DOHS  Banasree  \\\n",
       "1       0            0         0      0       0            0         0   \n",
       "2       0            0         0      0       0            0         0   \n",
       "3       0            0         0      0       0            0         0   \n",
       "\n",
       "   Banglamotors  Bangshal  Baridhara  ...  Shiddheswari  Shyamoli  Shyampur  \\\n",
       "1             0         0          0  ...             0         0         0   \n",
       "2             0         0          0  ...             0         0         0   \n",
       "3             0         0          0  ...             0         0         0   \n",
       "\n",
       "   Sutrapur  Taltola  Tejgaon  Turag  Uttar Khan  Uttara  Zafrabad  \n",
       "1         0        0        1      0           0       0         0  \n",
       "2         0        0        0      0           0       0         0  \n",
       "3         0        0        0      0           0       0         0  \n",
       "\n",
       "[3 rows x 68 columns]"
      ]
     },
     "execution_count": 36,
     "metadata": {},
     "output_type": "execute_result"
    }
   ],
   "source": [
    "dummies = pd.get_dummies(df_filtered.Location).astype(\"int\")\n",
    "dummies.head(3)"
   ]
  },
  {
   "cell_type": "code",
   "execution_count": 37,
   "id": "137dc7d8-648e-4ebe-9f05-24711fe04f9f",
   "metadata": {},
   "outputs": [
    {
     "data": {
      "text/html": [
       "<div>\n",
       "<style scoped>\n",
       "    .dataframe tbody tr th:only-of-type {\n",
       "        vertical-align: middle;\n",
       "    }\n",
       "\n",
       "    .dataframe tbody tr th {\n",
       "        vertical-align: top;\n",
       "    }\n",
       "\n",
       "    .dataframe thead th {\n",
       "        text-align: right;\n",
       "    }\n",
       "</style>\n",
       "<table border=\"1\" class=\"dataframe\">\n",
       "  <thead>\n",
       "    <tr style=\"text-align: right;\">\n",
       "      <th></th>\n",
       "      <th>Location</th>\n",
       "      <th>Area</th>\n",
       "      <th>Bed</th>\n",
       "      <th>Bath</th>\n",
       "      <th>Rent</th>\n",
       "      <th>Adabor</th>\n",
       "      <th>Aftab Nagar</th>\n",
       "      <th>Agargaon</th>\n",
       "      <th>Badda</th>\n",
       "      <th>Banani</th>\n",
       "      <th>...</th>\n",
       "      <th>Shiddheswari</th>\n",
       "      <th>Shyamoli</th>\n",
       "      <th>Shyampur</th>\n",
       "      <th>Sutrapur</th>\n",
       "      <th>Taltola</th>\n",
       "      <th>Tejgaon</th>\n",
       "      <th>Turag</th>\n",
       "      <th>Uttar Khan</th>\n",
       "      <th>Uttara</th>\n",
       "      <th>Zafrabad</th>\n",
       "    </tr>\n",
       "  </thead>\n",
       "  <tbody>\n",
       "    <tr>\n",
       "      <th>1</th>\n",
       "      <td>Tejgaon</td>\n",
       "      <td>900</td>\n",
       "      <td>2</td>\n",
       "      <td>2</td>\n",
       "      <td>20000</td>\n",
       "      <td>0</td>\n",
       "      <td>0</td>\n",
       "      <td>0</td>\n",
       "      <td>0</td>\n",
       "      <td>0</td>\n",
       "      <td>...</td>\n",
       "      <td>0</td>\n",
       "      <td>0</td>\n",
       "      <td>0</td>\n",
       "      <td>0</td>\n",
       "      <td>0</td>\n",
       "      <td>1</td>\n",
       "      <td>0</td>\n",
       "      <td>0</td>\n",
       "      <td>0</td>\n",
       "      <td>0</td>\n",
       "    </tr>\n",
       "    <tr>\n",
       "      <th>2</th>\n",
       "      <td>Mohammadpur</td>\n",
       "      <td>1250</td>\n",
       "      <td>3</td>\n",
       "      <td>3</td>\n",
       "      <td>18000</td>\n",
       "      <td>0</td>\n",
       "      <td>0</td>\n",
       "      <td>0</td>\n",
       "      <td>0</td>\n",
       "      <td>0</td>\n",
       "      <td>...</td>\n",
       "      <td>0</td>\n",
       "      <td>0</td>\n",
       "      <td>0</td>\n",
       "      <td>0</td>\n",
       "      <td>0</td>\n",
       "      <td>0</td>\n",
       "      <td>0</td>\n",
       "      <td>0</td>\n",
       "      <td>0</td>\n",
       "      <td>0</td>\n",
       "    </tr>\n",
       "    <tr>\n",
       "      <th>3</th>\n",
       "      <td>Gulshan</td>\n",
       "      <td>2200</td>\n",
       "      <td>3</td>\n",
       "      <td>4</td>\n",
       "      <td>75000</td>\n",
       "      <td>0</td>\n",
       "      <td>0</td>\n",
       "      <td>0</td>\n",
       "      <td>0</td>\n",
       "      <td>0</td>\n",
       "      <td>...</td>\n",
       "      <td>0</td>\n",
       "      <td>0</td>\n",
       "      <td>0</td>\n",
       "      <td>0</td>\n",
       "      <td>0</td>\n",
       "      <td>0</td>\n",
       "      <td>0</td>\n",
       "      <td>0</td>\n",
       "      <td>0</td>\n",
       "      <td>0</td>\n",
       "    </tr>\n",
       "    <tr>\n",
       "      <th>4</th>\n",
       "      <td>Baridhara</td>\n",
       "      <td>2200</td>\n",
       "      <td>3</td>\n",
       "      <td>3</td>\n",
       "      <td>75000</td>\n",
       "      <td>0</td>\n",
       "      <td>0</td>\n",
       "      <td>0</td>\n",
       "      <td>0</td>\n",
       "      <td>0</td>\n",
       "      <td>...</td>\n",
       "      <td>0</td>\n",
       "      <td>0</td>\n",
       "      <td>0</td>\n",
       "      <td>0</td>\n",
       "      <td>0</td>\n",
       "      <td>0</td>\n",
       "      <td>0</td>\n",
       "      <td>0</td>\n",
       "      <td>0</td>\n",
       "      <td>0</td>\n",
       "    </tr>\n",
       "    <tr>\n",
       "      <th>5</th>\n",
       "      <td>Bashundhara R-A</td>\n",
       "      <td>3000</td>\n",
       "      <td>4</td>\n",
       "      <td>5</td>\n",
       "      <td>50000</td>\n",
       "      <td>0</td>\n",
       "      <td>0</td>\n",
       "      <td>0</td>\n",
       "      <td>0</td>\n",
       "      <td>0</td>\n",
       "      <td>...</td>\n",
       "      <td>0</td>\n",
       "      <td>0</td>\n",
       "      <td>0</td>\n",
       "      <td>0</td>\n",
       "      <td>0</td>\n",
       "      <td>0</td>\n",
       "      <td>0</td>\n",
       "      <td>0</td>\n",
       "      <td>0</td>\n",
       "      <td>0</td>\n",
       "    </tr>\n",
       "  </tbody>\n",
       "</table>\n",
       "<p>5 rows × 73 columns</p>\n",
       "</div>"
      ],
      "text/plain": [
       "          Location  Area  Bed  Bath   Rent  Adabor  Aftab Nagar  Agargaon  \\\n",
       "1          Tejgaon   900    2     2  20000       0            0         0   \n",
       "2      Mohammadpur  1250    3     3  18000       0            0         0   \n",
       "3          Gulshan  2200    3     4  75000       0            0         0   \n",
       "4        Baridhara  2200    3     3  75000       0            0         0   \n",
       "5  Bashundhara R-A  3000    4     5  50000       0            0         0   \n",
       "\n",
       "   Badda  Banani  ...  Shiddheswari  Shyamoli  Shyampur  Sutrapur  Taltola  \\\n",
       "1      0       0  ...             0         0         0         0        0   \n",
       "2      0       0  ...             0         0         0         0        0   \n",
       "3      0       0  ...             0         0         0         0        0   \n",
       "4      0       0  ...             0         0         0         0        0   \n",
       "5      0       0  ...             0         0         0         0        0   \n",
       "\n",
       "   Tejgaon  Turag  Uttar Khan  Uttara  Zafrabad  \n",
       "1        1      0           0       0         0  \n",
       "2        0      0           0       0         0  \n",
       "3        0      0           0       0         0  \n",
       "4        0      0           0       0         0  \n",
       "5        0      0           0       0         0  \n",
       "\n",
       "[5 rows x 73 columns]"
      ]
     },
     "execution_count": 37,
     "metadata": {},
     "output_type": "execute_result"
    }
   ],
   "source": [
    "df_new = pd.concat([df_filtered,dummies],axis='columns')\n",
    "# Display the first few rows of the dataset\n",
    "df_new.head()"
   ]
  },
  {
   "cell_type": "code",
   "execution_count": 38,
   "id": "ca173b8e-ea5b-4eaa-822e-29b16a6faf14",
   "metadata": {},
   "outputs": [],
   "source": [
    "df_new =df_new.drop(\"Location\",axis =1)"
   ]
  },
  {
   "cell_type": "code",
   "execution_count": 39,
   "id": "963b4ed5-9941-408e-97c9-a353724b7698",
   "metadata": {},
   "outputs": [
    {
     "data": {
      "text/html": [
       "<div>\n",
       "<style scoped>\n",
       "    .dataframe tbody tr th:only-of-type {\n",
       "        vertical-align: middle;\n",
       "    }\n",
       "\n",
       "    .dataframe tbody tr th {\n",
       "        vertical-align: top;\n",
       "    }\n",
       "\n",
       "    .dataframe thead th {\n",
       "        text-align: right;\n",
       "    }\n",
       "</style>\n",
       "<table border=\"1\" class=\"dataframe\">\n",
       "  <thead>\n",
       "    <tr style=\"text-align: right;\">\n",
       "      <th></th>\n",
       "      <th>Area</th>\n",
       "      <th>Bed</th>\n",
       "      <th>Bath</th>\n",
       "      <th>Rent</th>\n",
       "      <th>Adabor</th>\n",
       "      <th>Aftab Nagar</th>\n",
       "      <th>Agargaon</th>\n",
       "      <th>Badda</th>\n",
       "      <th>Banani</th>\n",
       "      <th>Banani DOHS</th>\n",
       "      <th>...</th>\n",
       "      <th>Shiddheswari</th>\n",
       "      <th>Shyamoli</th>\n",
       "      <th>Shyampur</th>\n",
       "      <th>Sutrapur</th>\n",
       "      <th>Taltola</th>\n",
       "      <th>Tejgaon</th>\n",
       "      <th>Turag</th>\n",
       "      <th>Uttar Khan</th>\n",
       "      <th>Uttara</th>\n",
       "      <th>Zafrabad</th>\n",
       "    </tr>\n",
       "  </thead>\n",
       "  <tbody>\n",
       "    <tr>\n",
       "      <th>1</th>\n",
       "      <td>900</td>\n",
       "      <td>2</td>\n",
       "      <td>2</td>\n",
       "      <td>20000</td>\n",
       "      <td>0</td>\n",
       "      <td>0</td>\n",
       "      <td>0</td>\n",
       "      <td>0</td>\n",
       "      <td>0</td>\n",
       "      <td>0</td>\n",
       "      <td>...</td>\n",
       "      <td>0</td>\n",
       "      <td>0</td>\n",
       "      <td>0</td>\n",
       "      <td>0</td>\n",
       "      <td>0</td>\n",
       "      <td>1</td>\n",
       "      <td>0</td>\n",
       "      <td>0</td>\n",
       "      <td>0</td>\n",
       "      <td>0</td>\n",
       "    </tr>\n",
       "    <tr>\n",
       "      <th>2</th>\n",
       "      <td>1250</td>\n",
       "      <td>3</td>\n",
       "      <td>3</td>\n",
       "      <td>18000</td>\n",
       "      <td>0</td>\n",
       "      <td>0</td>\n",
       "      <td>0</td>\n",
       "      <td>0</td>\n",
       "      <td>0</td>\n",
       "      <td>0</td>\n",
       "      <td>...</td>\n",
       "      <td>0</td>\n",
       "      <td>0</td>\n",
       "      <td>0</td>\n",
       "      <td>0</td>\n",
       "      <td>0</td>\n",
       "      <td>0</td>\n",
       "      <td>0</td>\n",
       "      <td>0</td>\n",
       "      <td>0</td>\n",
       "      <td>0</td>\n",
       "    </tr>\n",
       "    <tr>\n",
       "      <th>3</th>\n",
       "      <td>2200</td>\n",
       "      <td>3</td>\n",
       "      <td>4</td>\n",
       "      <td>75000</td>\n",
       "      <td>0</td>\n",
       "      <td>0</td>\n",
       "      <td>0</td>\n",
       "      <td>0</td>\n",
       "      <td>0</td>\n",
       "      <td>0</td>\n",
       "      <td>...</td>\n",
       "      <td>0</td>\n",
       "      <td>0</td>\n",
       "      <td>0</td>\n",
       "      <td>0</td>\n",
       "      <td>0</td>\n",
       "      <td>0</td>\n",
       "      <td>0</td>\n",
       "      <td>0</td>\n",
       "      <td>0</td>\n",
       "      <td>0</td>\n",
       "    </tr>\n",
       "  </tbody>\n",
       "</table>\n",
       "<p>3 rows × 72 columns</p>\n",
       "</div>"
      ],
      "text/plain": [
       "   Area  Bed  Bath   Rent  Adabor  Aftab Nagar  Agargaon  Badda  Banani  \\\n",
       "1   900    2     2  20000       0            0         0      0       0   \n",
       "2  1250    3     3  18000       0            0         0      0       0   \n",
       "3  2200    3     4  75000       0            0         0      0       0   \n",
       "\n",
       "   Banani DOHS  ...  Shiddheswari  Shyamoli  Shyampur  Sutrapur  Taltola  \\\n",
       "1            0  ...             0         0         0         0        0   \n",
       "2            0  ...             0         0         0         0        0   \n",
       "3            0  ...             0         0         0         0        0   \n",
       "\n",
       "   Tejgaon  Turag  Uttar Khan  Uttara  Zafrabad  \n",
       "1        1      0           0       0         0  \n",
       "2        0      0           0       0         0  \n",
       "3        0      0           0       0         0  \n",
       "\n",
       "[3 rows x 72 columns]"
      ]
     },
     "execution_count": 39,
     "metadata": {},
     "output_type": "execute_result"
    }
   ],
   "source": [
    "df_new.head(3)"
   ]
  },
  {
   "cell_type": "markdown",
   "id": "dc69b772-87f8-4580-b5f9-c1a7c104509b",
   "metadata": {},
   "source": [
    "# Feature Scalling"
   ]
  },
  {
   "cell_type": "code",
   "execution_count": 40,
   "id": "fb39d406-7b63-493d-abed-4a9f289c655d",
   "metadata": {},
   "outputs": [
    {
     "data": {
      "text/html": [
       "<div>\n",
       "<style scoped>\n",
       "    .dataframe tbody tr th:only-of-type {\n",
       "        vertical-align: middle;\n",
       "    }\n",
       "\n",
       "    .dataframe tbody tr th {\n",
       "        vertical-align: top;\n",
       "    }\n",
       "\n",
       "    .dataframe thead th {\n",
       "        text-align: right;\n",
       "    }\n",
       "</style>\n",
       "<table border=\"1\" class=\"dataframe\">\n",
       "  <thead>\n",
       "    <tr style=\"text-align: right;\">\n",
       "      <th></th>\n",
       "      <th>Area</th>\n",
       "      <th>Bed</th>\n",
       "      <th>Bath</th>\n",
       "      <th>Rent</th>\n",
       "      <th>Adabor</th>\n",
       "      <th>Aftab Nagar</th>\n",
       "      <th>Agargaon</th>\n",
       "      <th>Badda</th>\n",
       "      <th>Banani</th>\n",
       "      <th>Banani DOHS</th>\n",
       "      <th>...</th>\n",
       "      <th>Shiddheswari</th>\n",
       "      <th>Shyamoli</th>\n",
       "      <th>Shyampur</th>\n",
       "      <th>Sutrapur</th>\n",
       "      <th>Taltola</th>\n",
       "      <th>Tejgaon</th>\n",
       "      <th>Turag</th>\n",
       "      <th>Uttar Khan</th>\n",
       "      <th>Uttara</th>\n",
       "      <th>Zafrabad</th>\n",
       "    </tr>\n",
       "  </thead>\n",
       "  <tbody>\n",
       "    <tr>\n",
       "      <th>1</th>\n",
       "      <td>0.100000</td>\n",
       "      <td>0.2</td>\n",
       "      <td>0.2</td>\n",
       "      <td>0.036755</td>\n",
       "      <td>0</td>\n",
       "      <td>0</td>\n",
       "      <td>0</td>\n",
       "      <td>0</td>\n",
       "      <td>0</td>\n",
       "      <td>0</td>\n",
       "      <td>...</td>\n",
       "      <td>0</td>\n",
       "      <td>0</td>\n",
       "      <td>0</td>\n",
       "      <td>0</td>\n",
       "      <td>0</td>\n",
       "      <td>1</td>\n",
       "      <td>0</td>\n",
       "      <td>0</td>\n",
       "      <td>0</td>\n",
       "      <td>0</td>\n",
       "    </tr>\n",
       "    <tr>\n",
       "      <th>2</th>\n",
       "      <td>0.158333</td>\n",
       "      <td>0.4</td>\n",
       "      <td>0.4</td>\n",
       "      <td>0.031686</td>\n",
       "      <td>0</td>\n",
       "      <td>0</td>\n",
       "      <td>0</td>\n",
       "      <td>0</td>\n",
       "      <td>0</td>\n",
       "      <td>0</td>\n",
       "      <td>...</td>\n",
       "      <td>0</td>\n",
       "      <td>0</td>\n",
       "      <td>0</td>\n",
       "      <td>0</td>\n",
       "      <td>0</td>\n",
       "      <td>0</td>\n",
       "      <td>0</td>\n",
       "      <td>0</td>\n",
       "      <td>0</td>\n",
       "      <td>0</td>\n",
       "    </tr>\n",
       "    <tr>\n",
       "      <th>3</th>\n",
       "      <td>0.316667</td>\n",
       "      <td>0.4</td>\n",
       "      <td>0.6</td>\n",
       "      <td>0.176172</td>\n",
       "      <td>0</td>\n",
       "      <td>0</td>\n",
       "      <td>0</td>\n",
       "      <td>0</td>\n",
       "      <td>0</td>\n",
       "      <td>0</td>\n",
       "      <td>...</td>\n",
       "      <td>0</td>\n",
       "      <td>0</td>\n",
       "      <td>0</td>\n",
       "      <td>0</td>\n",
       "      <td>0</td>\n",
       "      <td>0</td>\n",
       "      <td>0</td>\n",
       "      <td>0</td>\n",
       "      <td>0</td>\n",
       "      <td>0</td>\n",
       "    </tr>\n",
       "    <tr>\n",
       "      <th>4</th>\n",
       "      <td>0.316667</td>\n",
       "      <td>0.4</td>\n",
       "      <td>0.4</td>\n",
       "      <td>0.176172</td>\n",
       "      <td>0</td>\n",
       "      <td>0</td>\n",
       "      <td>0</td>\n",
       "      <td>0</td>\n",
       "      <td>0</td>\n",
       "      <td>0</td>\n",
       "      <td>...</td>\n",
       "      <td>0</td>\n",
       "      <td>0</td>\n",
       "      <td>0</td>\n",
       "      <td>0</td>\n",
       "      <td>0</td>\n",
       "      <td>0</td>\n",
       "      <td>0</td>\n",
       "      <td>0</td>\n",
       "      <td>0</td>\n",
       "      <td>0</td>\n",
       "    </tr>\n",
       "    <tr>\n",
       "      <th>5</th>\n",
       "      <td>0.450000</td>\n",
       "      <td>0.6</td>\n",
       "      <td>0.8</td>\n",
       "      <td>0.112801</td>\n",
       "      <td>0</td>\n",
       "      <td>0</td>\n",
       "      <td>0</td>\n",
       "      <td>0</td>\n",
       "      <td>0</td>\n",
       "      <td>0</td>\n",
       "      <td>...</td>\n",
       "      <td>0</td>\n",
       "      <td>0</td>\n",
       "      <td>0</td>\n",
       "      <td>0</td>\n",
       "      <td>0</td>\n",
       "      <td>0</td>\n",
       "      <td>0</td>\n",
       "      <td>0</td>\n",
       "      <td>0</td>\n",
       "      <td>0</td>\n",
       "    </tr>\n",
       "  </tbody>\n",
       "</table>\n",
       "<p>5 rows × 72 columns</p>\n",
       "</div>"
      ],
      "text/plain": [
       "       Area  Bed  Bath      Rent  Adabor  Aftab Nagar  Agargaon  Badda  \\\n",
       "1  0.100000  0.2   0.2  0.036755       0            0         0      0   \n",
       "2  0.158333  0.4   0.4  0.031686       0            0         0      0   \n",
       "3  0.316667  0.4   0.6  0.176172       0            0         0      0   \n",
       "4  0.316667  0.4   0.4  0.176172       0            0         0      0   \n",
       "5  0.450000  0.6   0.8  0.112801       0            0         0      0   \n",
       "\n",
       "   Banani  Banani DOHS  ...  Shiddheswari  Shyamoli  Shyampur  Sutrapur  \\\n",
       "1       0            0  ...             0         0         0         0   \n",
       "2       0            0  ...             0         0         0         0   \n",
       "3       0            0  ...             0         0         0         0   \n",
       "4       0            0  ...             0         0         0         0   \n",
       "5       0            0  ...             0         0         0         0   \n",
       "\n",
       "   Taltola  Tejgaon  Turag  Uttar Khan  Uttara  Zafrabad  \n",
       "1        0        1      0           0       0         0  \n",
       "2        0        0      0           0       0         0  \n",
       "3        0        0      0           0       0         0  \n",
       "4        0        0      0           0       0         0  \n",
       "5        0        0      0           0       0         0  \n",
       "\n",
       "[5 rows x 72 columns]"
      ]
     },
     "execution_count": 40,
     "metadata": {},
     "output_type": "execute_result"
    }
   ],
   "source": [
    "# Import necessary libraries\n",
    "from sklearn.preprocessing import MinMaxScaler\n",
    "\n",
    "df_scaled = df_new.copy()\n",
    "\n",
    "# Columns to normalize\n",
    "columns_to_normalize = ['Area', 'Bed', 'Bath', 'Rent']\n",
    "\n",
    "# Initialize the MinMaxScaler\n",
    "scaler = MinMaxScaler()\n",
    "\n",
    "# Fit and transform the selected columns\n",
    "df_scaled[columns_to_normalize] = scaler.fit_transform(df_new[columns_to_normalize])\n",
    "\n",
    "# Display the first 5 rows\n",
    "# Display the first few rows of the dataset\n",
    "df_scaled.head()"
   ]
  },
  {
   "cell_type": "markdown",
   "id": "6092c32e-57fc-4da5-8332-5dcdd0b8deff",
   "metadata": {},
   "source": [
    "# Building Model\n"
   ]
  },
  {
   "cell_type": "code",
   "execution_count": 41,
   "id": "29c65c5a-69ca-42ce-b3fe-f59465345c3f",
   "metadata": {},
   "outputs": [
    {
     "data": {
      "text/html": [
       "<div>\n",
       "<style scoped>\n",
       "    .dataframe tbody tr th:only-of-type {\n",
       "        vertical-align: middle;\n",
       "    }\n",
       "\n",
       "    .dataframe tbody tr th {\n",
       "        vertical-align: top;\n",
       "    }\n",
       "\n",
       "    .dataframe thead th {\n",
       "        text-align: right;\n",
       "    }\n",
       "</style>\n",
       "<table border=\"1\" class=\"dataframe\">\n",
       "  <thead>\n",
       "    <tr style=\"text-align: right;\">\n",
       "      <th></th>\n",
       "      <th>Area</th>\n",
       "      <th>Bed</th>\n",
       "      <th>Bath</th>\n",
       "      <th>Adabor</th>\n",
       "      <th>Aftab Nagar</th>\n",
       "      <th>Agargaon</th>\n",
       "      <th>Badda</th>\n",
       "      <th>Banani</th>\n",
       "      <th>Banani DOHS</th>\n",
       "      <th>Banasree</th>\n",
       "      <th>...</th>\n",
       "      <th>Shiddheswari</th>\n",
       "      <th>Shyamoli</th>\n",
       "      <th>Shyampur</th>\n",
       "      <th>Sutrapur</th>\n",
       "      <th>Taltola</th>\n",
       "      <th>Tejgaon</th>\n",
       "      <th>Turag</th>\n",
       "      <th>Uttar Khan</th>\n",
       "      <th>Uttara</th>\n",
       "      <th>Zafrabad</th>\n",
       "    </tr>\n",
       "  </thead>\n",
       "  <tbody>\n",
       "    <tr>\n",
       "      <th>1</th>\n",
       "      <td>0.100000</td>\n",
       "      <td>0.2</td>\n",
       "      <td>0.2</td>\n",
       "      <td>0</td>\n",
       "      <td>0</td>\n",
       "      <td>0</td>\n",
       "      <td>0</td>\n",
       "      <td>0</td>\n",
       "      <td>0</td>\n",
       "      <td>0</td>\n",
       "      <td>...</td>\n",
       "      <td>0</td>\n",
       "      <td>0</td>\n",
       "      <td>0</td>\n",
       "      <td>0</td>\n",
       "      <td>0</td>\n",
       "      <td>1</td>\n",
       "      <td>0</td>\n",
       "      <td>0</td>\n",
       "      <td>0</td>\n",
       "      <td>0</td>\n",
       "    </tr>\n",
       "    <tr>\n",
       "      <th>2</th>\n",
       "      <td>0.158333</td>\n",
       "      <td>0.4</td>\n",
       "      <td>0.4</td>\n",
       "      <td>0</td>\n",
       "      <td>0</td>\n",
       "      <td>0</td>\n",
       "      <td>0</td>\n",
       "      <td>0</td>\n",
       "      <td>0</td>\n",
       "      <td>0</td>\n",
       "      <td>...</td>\n",
       "      <td>0</td>\n",
       "      <td>0</td>\n",
       "      <td>0</td>\n",
       "      <td>0</td>\n",
       "      <td>0</td>\n",
       "      <td>0</td>\n",
       "      <td>0</td>\n",
       "      <td>0</td>\n",
       "      <td>0</td>\n",
       "      <td>0</td>\n",
       "    </tr>\n",
       "    <tr>\n",
       "      <th>3</th>\n",
       "      <td>0.316667</td>\n",
       "      <td>0.4</td>\n",
       "      <td>0.6</td>\n",
       "      <td>0</td>\n",
       "      <td>0</td>\n",
       "      <td>0</td>\n",
       "      <td>0</td>\n",
       "      <td>0</td>\n",
       "      <td>0</td>\n",
       "      <td>0</td>\n",
       "      <td>...</td>\n",
       "      <td>0</td>\n",
       "      <td>0</td>\n",
       "      <td>0</td>\n",
       "      <td>0</td>\n",
       "      <td>0</td>\n",
       "      <td>0</td>\n",
       "      <td>0</td>\n",
       "      <td>0</td>\n",
       "      <td>0</td>\n",
       "      <td>0</td>\n",
       "    </tr>\n",
       "  </tbody>\n",
       "</table>\n",
       "<p>3 rows × 71 columns</p>\n",
       "</div>"
      ],
      "text/plain": [
       "       Area  Bed  Bath  Adabor  Aftab Nagar  Agargaon  Badda  Banani  \\\n",
       "1  0.100000  0.2   0.2       0            0         0      0       0   \n",
       "2  0.158333  0.4   0.4       0            0         0      0       0   \n",
       "3  0.316667  0.4   0.6       0            0         0      0       0   \n",
       "\n",
       "   Banani DOHS  Banasree  ...  Shiddheswari  Shyamoli  Shyampur  Sutrapur  \\\n",
       "1            0         0  ...             0         0         0         0   \n",
       "2            0         0  ...             0         0         0         0   \n",
       "3            0         0  ...             0         0         0         0   \n",
       "\n",
       "   Taltola  Tejgaon  Turag  Uttar Khan  Uttara  Zafrabad  \n",
       "1        0        1      0           0       0         0  \n",
       "2        0        0      0           0       0         0  \n",
       "3        0        0      0           0       0         0  \n",
       "\n",
       "[3 rows x 71 columns]"
      ]
     },
     "execution_count": 41,
     "metadata": {},
     "output_type": "execute_result"
    }
   ],
   "source": [
    "X = df_scaled.drop(\"Rent\", axis =1)\n",
    "X.head(3)"
   ]
  },
  {
   "cell_type": "code",
   "execution_count": 42,
   "id": "44df169f-92c4-436c-810c-985b1ce736cb",
   "metadata": {},
   "outputs": [
    {
     "data": {
      "text/plain": [
       "(21118, 71)"
      ]
     },
     "execution_count": 42,
     "metadata": {},
     "output_type": "execute_result"
    }
   ],
   "source": [
    "X.shape"
   ]
  },
  {
   "cell_type": "code",
   "execution_count": 43,
   "id": "252ccc31-f565-44d2-babc-3bcb42234b0e",
   "metadata": {},
   "outputs": [],
   "source": [
    "y = df_scaled.Rent"
   ]
  },
  {
   "cell_type": "code",
   "execution_count": 44,
   "id": "2f01d42e-f31e-4374-8529-dfa7c3d472d4",
   "metadata": {
    "scrolled": true
   },
   "outputs": [
    {
     "data": {
      "text/plain": [
       "1        0.036755\n",
       "2        0.031686\n",
       "3        0.176172\n",
       "4        0.176172\n",
       "5        0.112801\n",
       "           ...   \n",
       "28779    0.138150\n",
       "28780    0.036755\n",
       "28781    0.024081\n",
       "28783    0.049430\n",
       "28785    0.062104\n",
       "Name: Rent, Length: 21118, dtype: float64"
      ]
     },
     "execution_count": 44,
     "metadata": {},
     "output_type": "execute_result"
    }
   ],
   "source": [
    "y"
   ]
  },
  {
   "cell_type": "markdown",
   "id": "445ee282-a4b1-40e6-be4c-6ce5f2619c18",
   "metadata": {},
   "source": [
    "Now that we have **cleaned and preprocessed the dataset**, it's time to build a **Linear Regression model** to predict house rent.\n"
   ]
  },
  {
   "cell_type": "code",
   "execution_count": 45,
   "id": "d8d1c609-831c-4944-af11-78416fa3279d",
   "metadata": {},
   "outputs": [],
   "source": [
    "# Import necessary libraries for split the dataset\n",
    "from sklearn.model_selection import train_test_split\n",
    "X_train, X_test, y_train, y_test = train_test_split(X,y,test_size=0.2,random_state=10)"
   ]
  },
  {
   "cell_type": "code",
   "execution_count": 46,
   "id": "b32f7b31-2fc4-4ee5-805d-6909ed940d11",
   "metadata": {},
   "outputs": [
    {
     "data": {
      "text/plain": [
       "0.8841062274325822"
      ]
     },
     "execution_count": 46,
     "metadata": {},
     "output_type": "execute_result"
    }
   ],
   "source": [
    "# Import necessary libraries\n",
    "\n",
    "from sklearn.linear_model import LinearRegression\n",
    "lr_clf = LinearRegression()\n",
    "lr_clf.fit(X_train,y_train)\n",
    "lr_clf.score(X_test,y_test)"
   ]
  },
  {
   "cell_type": "markdown",
   "id": "df32ecda-1f8b-4a6a-84a4-9ae8504ea5c5",
   "metadata": {},
   "source": [
    "#### Finding the Best Model for House Rent Prediction\n",
    "\n",
    "To ensure we select the most **accurate and efficient** model, we compare multiple machine learning algorithms using **GridSearchCV**.\n",
    "\n",
    "---\n",
    "\n",
    "#### 🔹 **Why Compare Multiple Models?**\n",
    "Different algorithms perform **differently** based on the **data structure** and **features**.  \n",
    "By testing multiple models, we can identify the **best-performing one** for house rent prediction.\n",
    "\n",
    "---\n",
    "\n",
    "#### **Models Compared:**\n",
    "1️⃣ **Linear Regression** – Simple and interpretable.  \n",
    "2️⃣ **Decision Tree Regressor** – Captures non-linearity but can overfit.  \n",
    "3️⃣ **Random Forest Regressor** – An ensemble method reducing overfitting.  \n",
    "4️⃣ **XGBoost Regressor** – A powerful gradient boosting model.  \n",
    "5️⃣ **Support Vector Machine (SVR)** – Works well with small datasets and complex relationships.  \n",
    "6️⃣ **Bayesian Ridge Regression** – A probabilistic approach to regression.\n",
    "\n",
    "---\n",
    "\n",
    "#### **How We Compare the Models**\n",
    "✔ **Hyperparameter tuning** using **GridSearchCV**.  \n",
    "✔ **Cross-validation (ShuffleSplit)** to ensure robust evaluation.  \n",
    "✔ **Best model is selected** based on performance scores.\n",
    "\n"
   ]
  },
  {
   "cell_type": "code",
   "execution_count": 47,
   "id": "43c08d54-f767-4cb5-9e90-fc683baa3ab0",
   "metadata": {},
   "outputs": [
    {
     "name": "stdout",
     "output_type": "stream",
     "text": [
      "               model  best_score  \\\n",
      "0  linear_regression    0.893925   \n",
      "1      decision_tree    0.938024   \n",
      "2      random_forest    0.950257   \n",
      "3            xgboost    0.932277   \n",
      "4                svm    0.402619   \n",
      "5     bayesian_ridge    0.893914   \n",
      "\n",
      "                                         best_params  \n",
      "0                            {'fit_intercept': True}  \n",
      "1  {'criterion': 'friedman_mse', 'splitter': 'best'}  \n",
      "2  {'criterion': 'squared_error', 'n_estimators':...  \n",
      "3  {'learning_rate': 0.1, 'max_depth': 5, 'n_esti...  \n",
      "4     {'C': 0.1, 'epsilon': 0.1, 'kernel': 'linear'}  \n",
      "5  {'alpha_1': 0.001, 'alpha_2': 0.001, 'lambda_1...  \n"
     ]
    }
   ],
   "source": [
    "# Import necessary libraries\n",
    "from sklearn.linear_model import LinearRegression, BayesianRidge\n",
    "from sklearn.tree import DecisionTreeRegressor\n",
    "from sklearn.ensemble import RandomForestRegressor\n",
    "from xgboost import XGBRegressor\n",
    "from sklearn.svm import SVR\n",
    "from sklearn.model_selection import GridSearchCV, ShuffleSplit\n",
    "import pandas as pd\n",
    "\n",
    "\n",
    "# Function to find the best model using GridSearchCV\n",
    "def find_best_model_using_gridsearchcv(X, y):\n",
    "\n",
    "    # Define models and their parameters \n",
    "    algos = {\n",
    "        'linear_regression': {\n",
    "            'model': LinearRegression(),\n",
    "            'params': {\n",
    "                'fit_intercept': [True, False],\n",
    "            }\n",
    "        },\n",
    "        'decision_tree': {\n",
    "            'model': DecisionTreeRegressor(),\n",
    "            'params': {\n",
    "                'criterion': ['squared_error', 'friedman_mse'],\n",
    "                'splitter': ['best','random'],\n",
    "            }\n",
    "        },\n",
    "        'random_forest': {\n",
    "            'model': RandomForestRegressor(),\n",
    "            'params': {\n",
    "                'n_estimators': [50,100],\n",
    "                'criterion': ['squared_error','friedman_mse'],\n",
    "            }\n",
    "        },\n",
    "        'xgboost': {\n",
    "            'model': XGBRegressor(),\n",
    "            'params': {\n",
    "                'n_estimators': [50,100],\n",
    "                'learning_rate': [0.01,0.1],\n",
    "                'max_depth': [3,5],\n",
    "            }\n",
    "        },\n",
    "        'svm': {\n",
    "            'model': SVR(),\n",
    "            'params': {\n",
    "                'kernel': ['linear','rbf'],\n",
    "                'C': [0.1,1],\n",
    "                'epsilon': [0.1,0.2],\n",
    "            }\n",
    "        },\n",
    "        'bayesian_ridge': {\n",
    "            'model': BayesianRidge(),\n",
    "            'params': {\n",
    "                'alpha_1': [1e-3],\n",
    "                'alpha_2': [1e-3],\n",
    "                'lambda_1': [1e-3],\n",
    "                'lambda_2': [1e-3],\n",
    "            }\n",
    "        }\n",
    "    }\n",
    "\n",
    "    # ShuffleSplit Cross-validation\n",
    "    cv = ShuffleSplit(n_splits=5, test_size=0.2, random_state=0)\n",
    "    \n",
    "    scores = []\n",
    "    for algo_name, config in algos.items():\n",
    "        gs = GridSearchCV(config['model'], config['params'], cv=cv, return_train_score=False)\n",
    "        gs.fit(X, y)\n",
    "        scores.append({\n",
    "            'model': algo_name,\n",
    "            'best_score': gs.best_score_,\n",
    "            'best_params': gs.best_params_\n",
    "        })\n",
    "    \n",
    "    return pd.DataFrame(scores, columns=['model', 'best_score', 'best_params'])\n",
    "\n",
    "best_model_df = find_best_model_using_gridsearchcv(X, y)\n",
    "print(best_model_df)\n"
   ]
  },
  {
   "cell_type": "markdown",
   "id": "ba94c025-bca0-4bae-b936-35b0cb31355a",
   "metadata": {},
   "source": [
    "### Training the Best Model - Random Forest Regressor\n",
    "\n",
    "After evaluating multiple models using **GridSearchCV**, we found that **Random Forest Regressor** achieved the **highest performance score**.  \n",
    "Therefore, we proceed with training it on our dataset.\n",
    "\n",
    "---\n",
    "\n",
    "### 🔹 **Why Random Forest?**\n",
    "✅ **Performs well on structured data** with complex relationships.  \n",
    "✅ **Handles non-linearity** better than simple linear models.  \n",
    "✅ **Less prone to overfitting** compared to a single Decision Tree.  \n",
    "✅ **Automatically captures feature importance**, helping us understand key factors influencing rent.\n"
   ]
  },
  {
   "cell_type": "code",
   "execution_count": 48,
   "id": "4f834903-ea1d-4749-8d0b-4be5a3aecb7c",
   "metadata": {},
   "outputs": [
    {
     "data": {
      "text/plain": [
       "0.9565388530562258"
      ]
     },
     "execution_count": 48,
     "metadata": {},
     "output_type": "execute_result"
    }
   ],
   "source": [
    "# Random Forest model\n",
    "# Import necessary libraries\n",
    "from sklearn.ensemble import RandomForestRegressor\n",
    "model = RandomForestRegressor(n_estimators=50, criterion='squared_error', random_state=42)\n",
    "model.fit(X_train, y_train)\n",
    "\n",
    "# Make predictions\n",
    "y_pred = model.predict(X_test)\n",
    "\n",
    "# Evaluate the model\n",
    "model.score(X_test, y_test)\n",
    "\n"
   ]
  },
  {
   "cell_type": "markdown",
   "id": "32df0539-6026-4fb2-bb8a-f04c030f451a",
   "metadata": {},
   "source": [
    "### Building a House Rent Prediction Function\n",
    "\n",
    "Now that we have a trained **Random Forest Regressor**, we create a **custom function** to predict house rent based on user input.\n",
    "\n",
    "---\n",
    "\n",
    "### 🔹 **How Does `predict_price` Work?**\n",
    "1️⃣ **Prepare input features**:  \n",
    "   - Create a zero-filled array of the same size as `X.columns`.  \n",
    "   - Scale numerical inputs (`Area`, `Bed`, `Bath`) using a **pre-fitted scaler**.  \n",
    "\n",
    "2️⃣ **One-Hot Encode Location**:  \n",
    "   - Since `Location` is categorical, we check if it exists in `X.columns`.  \n",
    "   - If it does, we set its corresponding **one-hot encoded** index to `1`.  \n",
    "\n",
    "3️⃣ **Make a Prediction**:  \n",
    "   - The trained model predicts the **scaled rent value**.  \n",
    "   - We **convert it back to the actual rent** using the **min-max range** for the given location.\n",
    "\n",
    "---"
   ]
  },
  {
   "cell_type": "code",
   "execution_count": 49,
   "id": "227a45f5-ac67-4dad-8a9f-22548164c818",
   "metadata": {},
   "outputs": [],
   "source": [
    "def predict_price(Location, Area, Bed, Bath):\n",
    "    # Create an array of zeros for input features\n",
    "    x = np.zeros(len(X.columns))  \n",
    "\n",
    "    # Scale input values correctly\n",
    "    scaled_features = scaler.transform([[Area, Bed, Bath, 0]])[0]\n",
    "    x[0] = scaled_features[0]  # Scaled Areaz\n",
    "    x[1] = scaled_features[1]  # Scaled Bed\n",
    "    x[2] = scaled_features[2]  # Scaled Bath\n",
    "\n",
    "    # One-hot encode location\n",
    "    if Location in X.columns:\n",
    "        loc_index = np.where(X.columns == Location)[0][0]\n",
    "        x[loc_index] = 1  # Set one-hot encoding for location\n",
    "\n",
    "    # Predict scaled rent\n",
    "    scaled_predicted_rent = model.predict([x])[0]\n",
    "\n",
    "    # Geting location-specific min/max Rent\n",
    "\n",
    "    min_rent = df_new[df_new[Location] == 1]['Rent'].min()\n",
    "    max_rent = df_new[df_new[Location] == 1]['Rent'].max()\n",
    "\n",
    "    actual_predicted_rent = scaled_predicted_rent * (max_rent - min_rent) + min_rent\n",
    "\n",
    "    return actual_predicted_rent\n",
    "\n"
   ]
  },
  {
   "cell_type": "markdown",
   "id": "bb92821b-2d8d-46d0-8deb-5ff4b5632b69",
   "metadata": {},
   "source": [
    "## Predicting House Rent in Different Locations\n",
    "\n",
    "Now that we have built the **rent prediction model**, let's test it by predicting rent prices in different locations.\n"
   ]
  },
  {
   "cell_type": "code",
   "execution_count": 50,
   "id": "130e17e8-102f-49ad-bbd8-30aa49a17a15",
   "metadata": {},
   "outputs": [
    {
     "data": {
      "text/plain": [
       "47811.181950093494"
      ]
     },
     "execution_count": 50,
     "metadata": {},
     "output_type": "execute_result"
    }
   ],
   "source": [
    "# Import necessary libraries\n",
    "import warnings\n",
    "warnings.filterwarnings('ignore')\n",
    "predict_price('Gulshan',1000, 3, 2)"
   ]
  },
  {
   "cell_type": "code",
   "execution_count": 51,
   "id": "f58a5189-de65-47ad-8f2e-17b3ef5cabff",
   "metadata": {},
   "outputs": [
    {
     "data": {
      "text/plain": [
       "12426.357181358626"
      ]
     },
     "execution_count": 51,
     "metadata": {},
     "output_type": "execute_result"
    }
   ],
   "source": [
    "predict_price('Bashundhara R-A',1000, 2, 2)"
   ]
  },
  {
   "cell_type": "code",
   "execution_count": 52,
   "id": "ad382962-618c-46a7-bbc4-211a6be34bbd",
   "metadata": {},
   "outputs": [
    {
     "data": {
      "text/plain": [
       "66228.57405325939"
      ]
     },
     "execution_count": 52,
     "metadata": {},
     "output_type": "execute_result"
    }
   ],
   "source": [
    "predict_price('Baridhara',1000, 3, 2)"
   ]
  }
 ],
 "metadata": {
  "kernelspec": {
   "display_name": "Python 3 (ipykernel)",
   "language": "python",
   "name": "python3"
  },
  "language_info": {
   "codemirror_mode": {
    "name": "ipython",
    "version": 3
   },
   "file_extension": ".py",
   "mimetype": "text/x-python",
   "name": "python",
   "nbconvert_exporter": "python",
   "pygments_lexer": "ipython3",
   "version": "3.12.2"
  }
 },
 "nbformat": 4,
 "nbformat_minor": 5
}
